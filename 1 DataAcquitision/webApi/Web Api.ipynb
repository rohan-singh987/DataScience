{
 "cells": [
  {
   "cell_type": "markdown",
   "id": "1e263927",
   "metadata": {},
   "source": [
    "# Data Acquisation: Web API's"
   ]
  },
  {
   "cell_type": "markdown",
   "id": "0521c294",
   "metadata": {},
   "source": [
    "## Type of Requests\n",
    "- GET\n",
    "- POST\n",
    "- DELETE\n",
    "- PUT\n",
    "- PATCH"
   ]
  },
  {
   "cell_type": "markdown",
   "id": "45872c3b",
   "metadata": {},
   "source": [
    "## Libraries\n",
    "1. urllib\n",
    "2. requests"
   ]
  },
  {
   "cell_type": "code",
   "execution_count": 11,
   "id": "29a69375",
   "metadata": {},
   "outputs": [],
   "source": [
    "from urllib.request import urlopen"
   ]
  },
  {
   "cell_type": "code",
   "execution_count": 12,
   "id": "0978907c",
   "metadata": {},
   "outputs": [],
   "source": []
  },
  {
   "cell_type": "code",
   "execution_count": 13,
   "id": "e76470dc",
   "metadata": {},
   "outputs": [],
   "source": [
    "api_url = \"https://api.openweathermap.org/data/2.5/weather?q=London&appid=\"+ api_key"
   ]
  },
  {
   "cell_type": "code",
   "execution_count": 14,
   "id": "547d6417",
   "metadata": {},
   "outputs": [
    {
     "name": "stdout",
     "output_type": "stream",
     "text": [
      "<http.client.HTTPResponse object at 0x1055dcd00>\n"
     ]
    }
   ],
   "source": [
    "url_req = urlopen(api_url)\n",
    "print(url_req)"
   ]
  },
  {
   "cell_type": "code",
   "execution_count": 15,
   "id": "45416686",
   "metadata": {},
   "outputs": [
    {
     "name": "stdout",
     "output_type": "stream",
     "text": [
      "b'{\"coord\":{\"lon\":-0.1257,\"lat\":51.5085},\"weather\":[{\"id\":803,\"main\":\"Clouds\",\"description\":\"broken clouds\",\"icon\":\"04d\"}],\"base\":\"stations\",\"main\":{\"temp\":288.31,\"feels_like\":288.18,\"temp_min\":286.48,\"temp_max\":289.4,\"pressure\":1004,\"humidity\":88},\"visibility\":10000,\"wind\":{\"speed\":3.6,\"deg\":250},\"clouds\":{\"all\":75},\"dt\":1666284774,\"sys\":{\"type\":2,\"id\":2075535,\"country\":\"GB\",\"sunrise\":1666247552,\"sunset\":1666285067},\"timezone\":3600,\"id\":2643743,\"name\":\"London\",\"cod\":200}'\n"
     ]
    }
   ],
   "source": [
    "data = url_req.read()\n",
    "print(data)"
   ]
  },
  {
   "cell_type": "code",
   "execution_count": 16,
   "id": "060dd9ba",
   "metadata": {},
   "outputs": [
    {
     "name": "stdout",
     "output_type": "stream",
     "text": [
      "<class 'bytes'>\n"
     ]
    }
   ],
   "source": [
    "print(type(data))\n",
    "\n",
    "# Here we get data in bytes but we have to convert it in JSON Format"
   ]
  },
  {
   "cell_type": "code",
   "execution_count": 17,
   "id": "0f1161c3",
   "metadata": {},
   "outputs": [],
   "source": [
    "import json\n",
    "json_data = json.loads(data)"
   ]
  },
  {
   "cell_type": "code",
   "execution_count": 18,
   "id": "cc387d1b",
   "metadata": {},
   "outputs": [
    {
     "name": "stdout",
     "output_type": "stream",
     "text": [
      "{'coord': {'lon': -0.1257, 'lat': 51.5085}, 'weather': [{'id': 803, 'main': 'Clouds', 'description': 'broken clouds', 'icon': '04d'}], 'base': 'stations', 'main': {'temp': 288.31, 'feels_like': 288.18, 'temp_min': 286.48, 'temp_max': 289.4, 'pressure': 1004, 'humidity': 88}, 'visibility': 10000, 'wind': {'speed': 3.6, 'deg': 250}, 'clouds': {'all': 75}, 'dt': 1666284774, 'sys': {'type': 2, 'id': 2075535, 'country': 'GB', 'sunrise': 1666247552, 'sunset': 1666285067}, 'timezone': 3600, 'id': 2643743, 'name': 'London', 'cod': 200}\n",
      "<class 'dict'>\n"
     ]
    }
   ],
   "source": [
    "print(json_data)\n",
    "print(type(json_data))"
   ]
  },
  {
   "cell_type": "code",
   "execution_count": 19,
   "id": "cb98ab71",
   "metadata": {},
   "outputs": [
    {
     "name": "stdout",
     "output_type": "stream",
     "text": [
      "London\n"
     ]
    }
   ],
   "source": [
    "print(json_data['name'])"
   ]
  },
  {
   "cell_type": "code",
   "execution_count": 20,
   "id": "011b7b6a",
   "metadata": {},
   "outputs": [
    {
     "name": "stdout",
     "output_type": "stream",
     "text": [
      "[{'id': 803, 'main': 'Clouds', 'description': 'broken clouds', 'icon': '04d'}]\n",
      "London 2643743\n"
     ]
    }
   ],
   "source": [
    "print(json_data['weather'])\n",
    "print(json_data['name'] , json_data['id'])"
   ]
  },
  {
   "cell_type": "code",
   "execution_count": null,
   "id": "7104beb0",
   "metadata": {},
   "outputs": [],
   "source": []
  },
  {
   "cell_type": "code",
   "execution_count": null,
   "id": "d928c4aa",
   "metadata": {},
   "outputs": [],
   "source": []
  },
  {
   "cell_type": "code",
   "execution_count": null,
   "id": "fa97769a",
   "metadata": {},
   "outputs": [],
   "source": []
  },
  {
   "cell_type": "code",
   "execution_count": null,
   "id": "0af6caf5",
   "metadata": {},
   "outputs": [],
   "source": []
  },
  {
   "cell_type": "code",
   "execution_count": null,
   "id": "6dcf599a",
   "metadata": {},
   "outputs": [],
   "source": []
  }
 ],
 "metadata": {
  "kernelspec": {
   "display_name": "Python 3 (ipykernel)",
   "language": "python",
   "name": "python3"
  },
  "language_info": {
   "codemirror_mode": {
    "name": "ipython",
    "version": 3
   },
   "file_extension": ".py",
   "mimetype": "text/x-python",
   "name": "python",
   "nbconvert_exporter": "python",
   "pygments_lexer": "ipython3",
   "version": "3.9.10"
  }
 },
 "nbformat": 4,
 "nbformat_minor": 5
}
